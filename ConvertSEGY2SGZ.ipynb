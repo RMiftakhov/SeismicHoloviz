{
 "cells": [
  {
   "cell_type": "code",
   "execution_count": null,
   "id": "a0880466",
   "metadata": {},
   "outputs": [],
   "source": [
    "from seismic_zfp.conversion import SegyConverter, ZgyConverter, VdsConverter, SgzConverter"
   ]
  },
  {
   "cell_type": "markdown",
   "id": "3c6818d2",
   "metadata": {},
   "source": [
    "## Convert SEGY Seismic to SGZ"
   ]
  },
  {
   "cell_type": "code",
   "execution_count": null,
   "id": "4f0e2577",
   "metadata": {},
   "outputs": [],
   "source": [
    "with SegyConverter('/Users/ruslan/Downloads/Ichthys 3D seismic for fault competition.segy') as converter:\n",
    "    # Create a \"standard\" SGZ file with 8:1 compression, using in-memory method\n",
    "    converter.run('/Users/ruslan/Downloads/Ichthys 3D seismic for fault competition.sgz', bits_per_voxel=4)\n",
    "    # Create a \"z-slice optimized\" SGZ file\n",
    "    converter.run('/Users/ruslan/Downloads/Ichthys 3D seismic for fault competition_z.sgz', bits_per_voxel=2, blockshape=(64, 64, 4))"
   ]
  }
 ],
 "metadata": {
  "kernelspec": {
   "display_name": "Python 3 (ipykernel)",
   "language": "python",
   "name": "python3"
  },
  "language_info": {
   "codemirror_mode": {
    "name": "ipython",
    "version": 3
   },
   "file_extension": ".py",
   "mimetype": "text/x-python",
   "name": "python",
   "nbconvert_exporter": "python",
   "pygments_lexer": "ipython3",
   "version": "3.9.12"
  }
 },
 "nbformat": 4,
 "nbformat_minor": 5
}
