{
 "cells": [
  {
   "cell_type": "markdown",
   "id": "5d93e34f",
   "metadata": {},
   "source": [
    "## Import libraries"
   ]
  },
  {
   "cell_type": "code",
   "execution_count": null,
   "id": "424f0e38",
   "metadata": {},
   "outputs": [],
   "source": [
    "import numpy as np\n",
    "from seismic_zfp.read import SgzReader\n",
    "import seismic_zfp\n",
    "import matplotlib\n",
    "import matplotlib.pyplot as plt"
   ]
  },
  {
   "cell_type": "markdown",
   "id": "2c038dc7",
   "metadata": {},
   "source": [
    "### Seismic"
   ]
  },
  {
   "cell_type": "code",
   "execution_count": null,
   "id": "833ef96f",
   "metadata": {},
   "outputs": [],
   "source": [
    "seismic_filename = '/Users/ruslan/Downloads/Ichthys 3D seismic for fault competition.sgz'\n",
    "# filename for z-optimized volume\n",
    "seismic_z_filename = '/Users/ruslan/Downloads/Ichthys 3D seismic for fault competition_z.sgz'\n",
    "file = SgzReader(seismic_filename)\n",
    "file_z = SgzReader(seismic_z_filename)"
   ]
  },
  {
   "cell_type": "markdown",
   "id": "e0937eaf",
   "metadata": {},
   "source": [
    "### Overlay data (fault cube)"
   ]
  },
  {
   "cell_type": "code",
   "execution_count": null,
   "id": "cdeee124",
   "metadata": {},
   "outputs": [],
   "source": [
    "flt_filename = '/Users/ruslan/Downloads/faults_geoplat.sgz'\n",
    "flt_z_filename = '/Users/ruslan/Downloads/faults_geoplat_z.sgz'\n",
    "flt_file = SgzReader(flt_filename)\n",
    "flt_file_z = SgzReader(flt_z_filename)"
   ]
  },
  {
   "cell_type": "markdown",
   "id": "ec633e40",
   "metadata": {},
   "source": [
    "## Plot vertical slice with Matplotlib"
   ]
  },
  {
   "cell_type": "code",
   "execution_count": null,
   "id": "f058304d",
   "metadata": {},
   "outputs": [],
   "source": [
    "# define the range for visualization\n",
    "t = seismic_zfp.tools.cube(seismic_filename)\n",
    "vm = np.percentile(t, 95)\n",
    "print(vm)\n",
    "del t"
   ]
  },
  {
   "cell_type": "code",
   "execution_count": null,
   "id": "dce643be",
   "metadata": {},
   "outputs": [],
   "source": [
    "# Plot the central inline in the usual orientation by transposing the data\n",
    "plt.imshow(file.read_inline(file.n_ilines//2).T, cmap='gray', aspect='auto', vmin=-vm, vmax=vm)\n",
    "\n",
    "plt.xlabel('XLINE_indx')\n",
    "plt.ylabel('TIME_indx')\n",
    "plt.title('Ichthys 3D -INL '+ str(file.n_ilines//2))\n",
    "plt.show()"
   ]
  },
  {
   "cell_type": "markdown",
   "id": "17ca29e5",
   "metadata": {},
   "source": [
    "## Plot time slice with Matplotlib"
   ]
  },
  {
   "cell_type": "code",
   "execution_count": null,
   "id": "563c1ea5",
   "metadata": {},
   "outputs": [],
   "source": [
    "plt.imshow(file.read_zslice(file.n_samples//2).T, vmin=-vm, vmax=vm, cmap='gray', origin='lower', aspect='auto')\n",
    "\n",
    "plt.xlabel('XLINE_indx')\n",
    "plt.ylabel('INLINE_indx')\n",
    "plt.title('Time Slice '+ str(file.n_samples//2))\n",
    "plt.show()"
   ]
  },
  {
   "cell_type": "markdown",
   "id": "05cf39ed",
   "metadata": {},
   "source": [
    "###  Plotting with HOLOVIZ"
   ]
  },
  {
   "cell_type": "code",
   "execution_count": null,
   "id": "859650dc",
   "metadata": {},
   "outputs": [],
   "source": [
    "import hvplot.xarray\n",
    "import panel as pn\n",
    "import xarray as xr\n",
    "from holoviews import opts\n",
    "import holoviews as hv\n",
    "hv.extension('bokeh')\n",
    "\n",
    "opts.defaults(\n",
    "    opts.Image(\n",
    "        width=900, height=700), tools=[\"layers_control\"])"
   ]
  },
  {
   "cell_type": "markdown",
   "id": "de6973a4",
   "metadata": {},
   "source": [
    "### Interactive functions"
   ]
  },
  {
   "cell_type": "code",
   "execution_count": null,
   "id": "51292640",
   "metadata": {},
   "outputs": [],
   "source": [
    "def get_flt_mask(attr, eps):\n",
    "    flt_mask = np.zeros([attr.shape[0], attr.shape[1], 4])\n",
    "    flt_mask[:, :, 0][attr > eps] = 1\n",
    "    flt_mask[:, :, 3][attr > eps] = 1\n",
    "    return hv.RGB(flt_mask)\n",
    "\n",
    "def plot_inl(inl, cmap, vmin, vmax, eps): \n",
    "    seis = file.read_inline(inl).T\n",
    "    attr = flt_file.read_inline(inl).T\n",
    "    seis_plot = hv.Image(seis).opts(opts.Image(clim=(-vmin, vmax), cmap=cmap, xlabel='Xline_idx', ylabel='Time_idx'))\n",
    "    rgba = get_flt_mask(attr, eps)\n",
    "    return seis_plot*rgba\n",
    "def plot_xln(xln, cmap, vmin, vmax, eps): \n",
    "    seis = file.read_crossline(xln).T\n",
    "    attr = flt_file.read_crossline(xln).T\n",
    "    seis_plot = hv.Image(seis).opts(opts.Image(clim=(-vmin, vmax), cmap=cmap, xlabel='Iline_idx', ylabel='Time_idx'))\n",
    "    rgba = get_flt_mask(attr, eps)\n",
    "    return seis_plot*rgba\n",
    "   \n",
    "def plot_top(t, cmap, vmin, vmax, eps):\n",
    "    seis = file_z.read_zslice(t).T\n",
    "    attr = flt_file_z.read_zslice(t).T\n",
    "    seis_plot = hv.Image(seis).opts(opts.Image(clim=(-vmin, vmax), cmap=cmap, xlabel='Xline_idx', ylabel='Iline_idx'))\n",
    "    rgba = get_flt_mask(attr, eps)\n",
    "    return seis_plot*rgba\n",
    "\n",
    "iline_old = 0\n",
    "xline_old = 0\n",
    "t_old = 0\n",
    "    \n",
    "def plot_slice_seis(inline_indx, xline_indx, time_indx, cmap, eps):\n",
    "    global iline_old, xline_old, t_old\n",
    "    if np.abs(iline_old - inline_indx) > 0:\n",
    "        iline_old = inline_indx\n",
    "        return plot_inl(inline_indx, cmap, vm, vm, eps)\n",
    "    elif np.abs(xline_old - xline_indx) > 0:\n",
    "        xline_old = xline_indx\n",
    "        return plot_xln(xline_indx, cmap, vm, vm, eps)\n",
    "    elif np.abs(t_old - time_indx) > 0:\n",
    "        t_old = time_indx\n",
    "        return plot_top(time_indx, cmap, vm, vm, eps)"
   ]
  },
  {
   "cell_type": "markdown",
   "id": "3abf903c",
   "metadata": {},
   "source": [
    "### Layout"
   ]
  },
  {
   "cell_type": "code",
   "execution_count": null,
   "id": "dae36526",
   "metadata": {},
   "outputs": [],
   "source": [
    "pallet_select = pn.widgets.Select(name='Pallet', options=['gray', 'seismic', 'bwr'])  \n",
    "float_slider = pn.widgets.FloatSlider(name='Probability Threshold', start=0, end=1.0, step=0.1, value=0.5)\n",
    "inline_slider = pn.widgets.IntSlider(name='Inline_indx', start=0, end=file.n_ilines-1)\n",
    "xline_slider = pn.widgets.IntSlider(name='Xline_indx', start=0, end=file.n_xlines-1)\n",
    "tline_slider = pn.widgets.IntSlider(name='Time_indx', start=0, end=file.n_samples-1)\n",
    "col = pn.Column(pn.Row (pallet_select,float_slider), pn.Row (inline_slider, xline_slider, tline_slider))\n",
    "layout_seis = pn.interact(plot_slice_seis, inline_indx = inline_slider, xline_indx=xline_slider, time_indx = tline_slider, cmap=pallet_select, eps=float_slider )"
   ]
  },
  {
   "cell_type": "code",
   "execution_count": null,
   "id": "855e000d",
   "metadata": {
    "scrolled": true
   },
   "outputs": [],
   "source": [
    "pn.Column(col,  layout_seis[1])"
   ]
  }
 ],
 "metadata": {
  "kernelspec": {
   "display_name": "Python 3 (ipykernel)",
   "language": "python",
   "name": "python3"
  },
  "language_info": {
   "codemirror_mode": {
    "name": "ipython",
    "version": 3
   },
   "file_extension": ".py",
   "mimetype": "text/x-python",
   "name": "python",
   "nbconvert_exporter": "python",
   "pygments_lexer": "ipython3",
   "version": "3.9.12"
  }
 },
 "nbformat": 4,
 "nbformat_minor": 5
}
