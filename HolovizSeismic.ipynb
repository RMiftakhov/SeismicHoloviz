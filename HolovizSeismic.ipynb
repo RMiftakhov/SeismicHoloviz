{
 "cells": [
  {
   "cell_type": "markdown",
   "id": "558cfa31",
   "metadata": {},
   "source": [
    "## Import libraries"
   ]
  },
  {
   "cell_type": "code",
   "execution_count": null,
   "id": "1427d47a",
   "metadata": {},
   "outputs": [],
   "source": [
    "import numpy as np\n",
    "import segyio\n",
    "import matplotlib\n",
    "import matplotlib.pyplot as plt\n",
    "import itertools"
   ]
  },
  {
   "cell_type": "code",
   "execution_count": null,
   "id": "833ef96f",
   "metadata": {},
   "outputs": [],
   "source": [
    "# Define the path to seismic file\n",
    "filename = '/Users/ruslan/Downloads/Ichthys 3D seismic for fault competition.segy'"
   ]
  },
  {
   "cell_type": "markdown",
   "id": "c03a1d1c",
   "metadata": {},
   "source": [
    "## View SEGY header"
   ]
  },
  {
   "cell_type": "code",
   "execution_count": null,
   "id": "4a45d6c9",
   "metadata": {},
   "outputs": [],
   "source": [
    "f = segyio.open(filename, ignore_geometry = True)\n",
    "segyio.tools.wrap(f.text[0])\n",
    "print(segyio.tools.wrap(f.text[0]))"
   ]
  },
  {
   "cell_type": "markdown",
   "id": "832b9627",
   "metadata": {},
   "source": [
    "## Read SEGY into RAM"
   ]
  },
  {
   "cell_type": "code",
   "execution_count": null,
   "id": "cdbdb023",
   "metadata": {},
   "outputs": [],
   "source": [
    "with segyio.open(filename) as segyfile:\n",
    "    seis_data = segyio.tools.cube(filename)\n",
    "    xlines = segyfile.xlines\n",
    "    ilines = segyfile.ilines\n",
    "    samples = segyfile.samples"
   ]
  },
  {
   "cell_type": "markdown",
   "id": "4e75fd11",
   "metadata": {},
   "source": [
    "## Plot vertical slice with Matplotlib"
   ]
  },
  {
   "cell_type": "code",
   "execution_count": null,
   "id": "dce643be",
   "metadata": {},
   "outputs": [],
   "source": [
    "# define the range for visualization\n",
    "vm = np.percentile(seis_data, 95)\n",
    "print(vm)"
   ]
  },
  {
   "cell_type": "code",
   "execution_count": null,
   "id": "a054e023",
   "metadata": {},
   "outputs": [],
   "source": [
    "extent = [xlines[0], xlines[-1], samples[-1], samples[0]]\n",
    "plt.imshow(seis_data[100,:,:].T, vmin=-vm, vmax=vm, cmap='gray', aspect='auto')\n",
    "\n",
    "plt.xlabel('XLINE')\n",
    "plt.ylabel('TIME')\n",
    "plt.title('Ichthys 3D - INL 100')\n",
    "plt.show()"
   ]
  },
  {
   "cell_type": "markdown",
   "id": "17ca29e5",
   "metadata": {},
   "source": [
    "## Plot time slice with Matplotlib"
   ]
  },
  {
   "cell_type": "code",
   "execution_count": null,
   "id": "563c1ea5",
   "metadata": {},
   "outputs": [],
   "source": [
    "# Central time slice\n",
    "\n",
    "tmid = len(samples)//2\n",
    "\n",
    "extent = [xlines[0], xlines[-1], ilines[0], ilines[-1]]\n",
    "\n",
    "plt.imshow(seis_data[:,:,tmid], vmin=-vm, vmax=vm, cmap='gray', origin='lower', aspect='auto', extent=extent)\n",
    "\n",
    "plt.xlabel('XLINE')\n",
    "plt.ylabel('INLINE')\n",
    "plt.title('Ichthys 3D - Time Slice '+ str(samples[tmid])+'ms')\n",
    "plt.show()"
   ]
  },
  {
   "cell_type": "markdown",
   "id": "05cf39ed",
   "metadata": {},
   "source": [
    "###  Plotting with HOLOVIZ"
   ]
  },
  {
   "cell_type": "code",
   "execution_count": null,
   "id": "859650dc",
   "metadata": {},
   "outputs": [],
   "source": [
    "import hvplot.xarray\n",
    "import panel as pn\n",
    "import xarray as xr\n",
    "from holoviews import opts\n",
    "import holoviews as hv\n",
    "hv.extension('bokeh')\n",
    "\n",
    "opts.defaults(\n",
    "    opts.Image(\n",
    "        width=900, height=700), tools=[\"layers_control\"])"
   ]
  },
  {
   "cell_type": "markdown",
   "id": "254f4106",
   "metadata": {},
   "source": [
    "### Interactive functions"
   ]
  },
  {
   "cell_type": "code",
   "execution_count": null,
   "id": "be8b3765",
   "metadata": {},
   "outputs": [],
   "source": [
    "def plot_inl(inl, cmap):\n",
    "    \"\"\"\n",
    "    Plot a single inline using hvplot\n",
    "    \"\"\"\n",
    "    idx = inl\n",
    "    da = xr.DataArray(seis_data[idx,:,:].T)   \n",
    "    p = da.hvplot.image( clim=(-vm, vm),extent = [xlines[0], xlines[-1], samples[-1], samples[0]], cmap=cmap, flip_yaxis=True, xlabel='Xline_idx', ylabel='Time_idx', title='ILine '+ str(ilines[inl])) \n",
    "    return p\n",
    "def plot_xln(xln, cmap):\n",
    "    \"\"\"\n",
    "    Plot a single xline using hvplot\n",
    "    \"\"\"\n",
    "    idx = xln\n",
    "    da = xr.DataArray(seis_data[:,idx,:].T)    \n",
    "    p = da.hvplot.image(clim=(-vm, vm), cmap=cmap, flip_yaxis=True, xlabel='Iline_idx', ylabel='Time_idx', title='XLine '+ str(xlines[xln])) \n",
    "    return p\n",
    "\n",
    "def plot_top(t, cmap):\n",
    "    \"\"\"\n",
    "    Plot a single time slice using hvplot\n",
    "    \"\"\"\n",
    "    idx = t\n",
    "    da = xr.DataArray(seis_data[:,:,idx])    \n",
    "    p = da.hvplot.image(clim=(-vm, vm), cmap=cmap, xlabel='Xline_idx', ylabel='Iline_idx', title='Time '+str(samples[t])+'ms', extent = [xlines[0], xlines[-1], ilines[0], ilines[-1]]) \n",
    "    return p\n",
    "\n",
    "iline_old = 0\n",
    "xline_old = 0\n",
    "t_old = 0\n",
    "def plot_seis_slice(inline_indx, xline_indx, time_indx, cmap):\n",
    "    global iline_old, xline_old, t_old\n",
    "    if np.abs(iline_old - inline_indx) > 0:\n",
    "        iline_old = inline_indx\n",
    "        return plot_inl(inline_indx, cmap)\n",
    "    elif np.abs(xline_old - xline_indx) > 0:\n",
    "        xline_old = xline_indx\n",
    "        return plot_xln(xline_indx, cmap)\n",
    "    elif np.abs(t_old - time_indx) > 0:\n",
    "        t_old = time_indx\n",
    "        return plot_top(time_indx, cmap)"
   ]
  },
  {
   "cell_type": "markdown",
   "id": "af7d735f",
   "metadata": {},
   "source": [
    "### Layout"
   ]
  },
  {
   "cell_type": "code",
   "execution_count": null,
   "id": "82e22ad9",
   "metadata": {},
   "outputs": [],
   "source": [
    "pallet_select = pn.widgets.Select(name='Pallet', options=['gray', 'seismic', 'bwr'])  \n",
    "inline_slider = pn.widgets.IntSlider(name='Inline_indx', start=0, end=len(xlines))\n",
    "xline_slider = pn.widgets.IntSlider(name='Xline_indx', start=0, end=len(xlines))\n",
    "tline_slider = pn.widgets.IntSlider(name='Time_indx', start=0, end=len(samples))\n",
    "col = pn.Column(pn.Row (pallet_select), pn.Row (inline_slider, xline_slider, tline_slider))\n",
    "layout_seis = pn.interact(plot_seis_slice, inline_indx = inline_slider, xline_indx=xline_slider, time_indx = tline_slider, cmap=pallet_select)\n",
    "pn.Column(col,  layout_seis[1])"
   ]
  },
  {
   "cell_type": "code",
   "execution_count": null,
   "id": "f1f688a6",
   "metadata": {},
   "outputs": [],
   "source": []
  },
  {
   "cell_type": "code",
   "execution_count": null,
   "id": "d45fd284",
   "metadata": {},
   "outputs": [],
   "source": []
  }
 ],
 "metadata": {
  "kernelspec": {
   "display_name": "Python 3 (ipykernel)",
   "language": "python",
   "name": "python3"
  },
  "language_info": {
   "codemirror_mode": {
    "name": "ipython",
    "version": 3
   },
   "file_extension": ".py",
   "mimetype": "text/x-python",
   "name": "python",
   "nbconvert_exporter": "python",
   "pygments_lexer": "ipython3",
   "version": "3.9.12"
  }
 },
 "nbformat": 4,
 "nbformat_minor": 5
}
